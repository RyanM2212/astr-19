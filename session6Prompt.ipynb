{
 "cells": [
  {
   "cell_type": "markdown",
   "id": "13d58aa4-2a82-4e14-a1d8-f3a426a5068c",
   "metadata": {},
   "source": [
    "This function calculates sin(x)"
   ]
  },
  {
   "cell_type": "code",
   "execution_count": 14,
   "id": "51c1750b-7d97-48ca-acd8-d8dbece29499",
   "metadata": {},
   "outputs": [],
   "source": [
    "import math\n",
    "\n",
    "def sinFunct(x):\n",
    "    return math.sin(x)"
   ]
  },
  {
   "cell_type": "markdown",
   "id": "7408e3f2-2a36-4427-92fc-cc4d68572600",
   "metadata": {},
   "source": [
    "This function calculates cos(x)"
   ]
  },
  {
   "cell_type": "code",
   "execution_count": 15,
   "id": "e8b81b19-d496-4c94-8a37-eba73709e3df",
   "metadata": {},
   "outputs": [],
   "source": [
    "def cosFunct(x):\n",
    "    return math.cos(x)"
   ]
  },
  {
   "cell_type": "markdown",
   "id": "ad88077d-6190-4ba5-8930-df5c204118ce",
   "metadata": {},
   "source": [
    "This creates an array of x values from 0 to 2pi with 1000 entries and calculates sin(x) and cos(x) for each x"
   ]
  },
  {
   "cell_type": "code",
   "execution_count": 16,
   "id": "584088e1-887d-44f1-b6ad-2308928c703e",
   "metadata": {},
   "outputs": [],
   "source": [
    "xValues = [i * (2 * math.pi) / 999 for i in range(1000)]\n",
    "sinValues = [sinFunct(x) for x in xValues]\n",
    "cosValues = [cosFunct(x) for x in xValues]"
   ]
  },
  {
   "cell_type": "markdown",
   "id": "2d06333d-4fa0-4954-9cbe-b28b7e75b4d1",
   "metadata": {},
   "source": [
    "This prints the first 10 values of x, sin(x), and cos(x)"
   ]
  },
  {
   "cell_type": "code",
   "execution_count": 17,
   "id": "7cc3c0e6-edd9-4125-86eb-abaaa1c7029a",
   "metadata": {},
   "outputs": [
    {
     "name": "stdout",
     "output_type": "stream",
     "text": [
      "x\t\tsin(x)\t\tcos(x)\n",
      "-----------------------------------\n",
      "0.0000\t\t0.0000\t\t1.0000\n",
      "0.0063\t\t0.0063\t\t1.0000\n",
      "0.0126\t\t0.0126\t\t0.9999\n",
      "0.0189\t\t0.0189\t\t0.9998\n",
      "0.0252\t\t0.0252\t\t0.9997\n",
      "0.0314\t\t0.0314\t\t0.9995\n",
      "0.0377\t\t0.0377\t\t0.9993\n",
      "0.0440\t\t0.0440\t\t0.9990\n",
      "0.0503\t\t0.0503\t\t0.9987\n",
      "0.0566\t\t0.0566\t\t0.9984\n"
     ]
    }
   ],
   "source": [
    "print(\"x\\t\\tsin(x)\\t\\tcos(x)\")\n",
    "print(\"-----------------------------------\")\n",
    "\n",
    "for i in range(10):\n",
    "    x = xValues[i]\n",
    "    sinX = sinValues[i]\n",
    "    cosX = cosValues[i]\n",
    "    print(f\"{x:.4f}\\t\\t{sinX:.4f}\\t\\t{cosX:.4f}\")"
   ]
  },
  {
   "cell_type": "code",
   "execution_count": null,
   "id": "0594fbad-a318-44e1-b74c-8355241c174d",
   "metadata": {},
   "outputs": [],
   "source": []
  }
 ],
 "metadata": {
  "kernelspec": {
   "display_name": "Python 3 (ipykernel)",
   "language": "python",
   "name": "python3"
  },
  "language_info": {
   "codemirror_mode": {
    "name": "ipython",
    "version": 3
   },
   "file_extension": ".py",
   "mimetype": "text/x-python",
   "name": "python",
   "nbconvert_exporter": "python",
   "pygments_lexer": "ipython3",
   "version": "3.12.0"
  }
 },
 "nbformat": 4,
 "nbformat_minor": 5
}
